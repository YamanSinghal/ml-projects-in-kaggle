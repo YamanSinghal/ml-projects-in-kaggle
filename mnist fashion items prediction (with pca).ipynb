{
 "cells": [
  {
   "cell_type": "code",
   "execution_count": 1,
   "metadata": {
    "_cell_guid": "b1076dfc-b9ad-4769-8c92-a6c4dae69d19",
    "_uuid": "8f2839f25d086af736a60e9eeb907d3b93b6e0e5"
   },
   "outputs": [
    {
     "name": "stdout",
     "output_type": "stream",
     "text": [
      "/kaggle/input/fashionmnist/t10k-labels-idx1-ubyte\n",
      "/kaggle/input/fashionmnist/train-images-idx3-ubyte\n",
      "/kaggle/input/fashionmnist/fashion-mnist_train.csv\n",
      "/kaggle/input/fashionmnist/train-labels-idx1-ubyte\n",
      "/kaggle/input/fashionmnist/t10k-images-idx3-ubyte\n",
      "/kaggle/input/fashionmnist/fashion-mnist_test.csv\n"
     ]
    }
   ],
   "source": [
    "# This Python 3 environment comes with many helpful analytics libraries installed\n",
    "# It is defined by the kaggle/python Docker image: https://github.com/kaggle/docker-python\n",
    "# For example, here's several helpful packages to load\n",
    "\n",
    "import numpy as np # linear algebra\n",
    "import pandas as pd # data processing, CSV file I/O (e.g. pd.read_csv)\n",
    "\n",
    "# Input data files are available in the read-only \"../input/\" directory\n",
    "# For example, running this (by clicking run or pressing Shift+Enter) will list all files under the input directory\n",
    "\n",
    "import os\n",
    "for dirname, _, filenames in os.walk('/kaggle/input'):\n",
    "    for filename in filenames:\n",
    "        print(os.path.join(dirname, filename))\n",
    "\n",
    "# You can write up to 5GB to the current directory (/kaggle/working/) that gets preserved as output when you create a version using \"Save & Run All\" \n",
    "# You can also write temporary files to /kaggle/temp/, but they won't be saved outside of the current session"
   ]
  },
  {
   "cell_type": "code",
   "execution_count": 2,
   "metadata": {
    "_cell_guid": "79c7e3d0-c299-4dcb-8224-4455121ee9b0",
    "_uuid": "d629ff2d2480ee46fbb7e2d37f6b5fab8052498a"
   },
   "outputs": [],
   "source": [
    "data = pd.read_csv(\"/kaggle/input/fashionmnist/fashion-mnist_train.csv\")"
   ]
  },
  {
   "cell_type": "code",
   "execution_count": 3,
   "metadata": {},
   "outputs": [
    {
     "data": {
      "text/plain": [
       "(60000, 785)"
      ]
     },
     "execution_count": 3,
     "metadata": {},
     "output_type": "execute_result"
    }
   ],
   "source": [
    "data.shape"
   ]
  },
  {
   "cell_type": "code",
   "execution_count": 4,
   "metadata": {},
   "outputs": [
    {
     "data": {
      "text/html": [
       "<div>\n",
       "<style scoped>\n",
       "    .dataframe tbody tr th:only-of-type {\n",
       "        vertical-align: middle;\n",
       "    }\n",
       "\n",
       "    .dataframe tbody tr th {\n",
       "        vertical-align: top;\n",
       "    }\n",
       "\n",
       "    .dataframe thead th {\n",
       "        text-align: right;\n",
       "    }\n",
       "</style>\n",
       "<table border=\"1\" class=\"dataframe\">\n",
       "  <thead>\n",
       "    <tr style=\"text-align: right;\">\n",
       "      <th></th>\n",
       "      <th>label</th>\n",
       "      <th>pixel1</th>\n",
       "      <th>pixel2</th>\n",
       "      <th>pixel3</th>\n",
       "      <th>pixel4</th>\n",
       "      <th>pixel5</th>\n",
       "      <th>pixel6</th>\n",
       "      <th>pixel7</th>\n",
       "      <th>pixel8</th>\n",
       "      <th>pixel9</th>\n",
       "      <th>...</th>\n",
       "      <th>pixel775</th>\n",
       "      <th>pixel776</th>\n",
       "      <th>pixel777</th>\n",
       "      <th>pixel778</th>\n",
       "      <th>pixel779</th>\n",
       "      <th>pixel780</th>\n",
       "      <th>pixel781</th>\n",
       "      <th>pixel782</th>\n",
       "      <th>pixel783</th>\n",
       "      <th>pixel784</th>\n",
       "    </tr>\n",
       "  </thead>\n",
       "  <tbody>\n",
       "    <tr>\n",
       "      <th>0</th>\n",
       "      <td>2</td>\n",
       "      <td>0</td>\n",
       "      <td>0</td>\n",
       "      <td>0</td>\n",
       "      <td>0</td>\n",
       "      <td>0</td>\n",
       "      <td>0</td>\n",
       "      <td>0</td>\n",
       "      <td>0</td>\n",
       "      <td>0</td>\n",
       "      <td>...</td>\n",
       "      <td>0</td>\n",
       "      <td>0</td>\n",
       "      <td>0</td>\n",
       "      <td>0</td>\n",
       "      <td>0</td>\n",
       "      <td>0</td>\n",
       "      <td>0</td>\n",
       "      <td>0</td>\n",
       "      <td>0</td>\n",
       "      <td>0</td>\n",
       "    </tr>\n",
       "    <tr>\n",
       "      <th>1</th>\n",
       "      <td>9</td>\n",
       "      <td>0</td>\n",
       "      <td>0</td>\n",
       "      <td>0</td>\n",
       "      <td>0</td>\n",
       "      <td>0</td>\n",
       "      <td>0</td>\n",
       "      <td>0</td>\n",
       "      <td>0</td>\n",
       "      <td>0</td>\n",
       "      <td>...</td>\n",
       "      <td>0</td>\n",
       "      <td>0</td>\n",
       "      <td>0</td>\n",
       "      <td>0</td>\n",
       "      <td>0</td>\n",
       "      <td>0</td>\n",
       "      <td>0</td>\n",
       "      <td>0</td>\n",
       "      <td>0</td>\n",
       "      <td>0</td>\n",
       "    </tr>\n",
       "    <tr>\n",
       "      <th>2</th>\n",
       "      <td>6</td>\n",
       "      <td>0</td>\n",
       "      <td>0</td>\n",
       "      <td>0</td>\n",
       "      <td>0</td>\n",
       "      <td>0</td>\n",
       "      <td>0</td>\n",
       "      <td>0</td>\n",
       "      <td>5</td>\n",
       "      <td>0</td>\n",
       "      <td>...</td>\n",
       "      <td>0</td>\n",
       "      <td>0</td>\n",
       "      <td>0</td>\n",
       "      <td>30</td>\n",
       "      <td>43</td>\n",
       "      <td>0</td>\n",
       "      <td>0</td>\n",
       "      <td>0</td>\n",
       "      <td>0</td>\n",
       "      <td>0</td>\n",
       "    </tr>\n",
       "    <tr>\n",
       "      <th>3</th>\n",
       "      <td>0</td>\n",
       "      <td>0</td>\n",
       "      <td>0</td>\n",
       "      <td>0</td>\n",
       "      <td>1</td>\n",
       "      <td>2</td>\n",
       "      <td>0</td>\n",
       "      <td>0</td>\n",
       "      <td>0</td>\n",
       "      <td>0</td>\n",
       "      <td>...</td>\n",
       "      <td>3</td>\n",
       "      <td>0</td>\n",
       "      <td>0</td>\n",
       "      <td>0</td>\n",
       "      <td>0</td>\n",
       "      <td>1</td>\n",
       "      <td>0</td>\n",
       "      <td>0</td>\n",
       "      <td>0</td>\n",
       "      <td>0</td>\n",
       "    </tr>\n",
       "    <tr>\n",
       "      <th>4</th>\n",
       "      <td>3</td>\n",
       "      <td>0</td>\n",
       "      <td>0</td>\n",
       "      <td>0</td>\n",
       "      <td>0</td>\n",
       "      <td>0</td>\n",
       "      <td>0</td>\n",
       "      <td>0</td>\n",
       "      <td>0</td>\n",
       "      <td>0</td>\n",
       "      <td>...</td>\n",
       "      <td>0</td>\n",
       "      <td>0</td>\n",
       "      <td>0</td>\n",
       "      <td>0</td>\n",
       "      <td>0</td>\n",
       "      <td>0</td>\n",
       "      <td>0</td>\n",
       "      <td>0</td>\n",
       "      <td>0</td>\n",
       "      <td>0</td>\n",
       "    </tr>\n",
       "  </tbody>\n",
       "</table>\n",
       "<p>5 rows × 785 columns</p>\n",
       "</div>"
      ],
      "text/plain": [
       "   label  pixel1  pixel2  pixel3  pixel4  pixel5  pixel6  pixel7  pixel8  \\\n",
       "0      2       0       0       0       0       0       0       0       0   \n",
       "1      9       0       0       0       0       0       0       0       0   \n",
       "2      6       0       0       0       0       0       0       0       5   \n",
       "3      0       0       0       0       1       2       0       0       0   \n",
       "4      3       0       0       0       0       0       0       0       0   \n",
       "\n",
       "   pixel9  ...  pixel775  pixel776  pixel777  pixel778  pixel779  pixel780  \\\n",
       "0       0  ...         0         0         0         0         0         0   \n",
       "1       0  ...         0         0         0         0         0         0   \n",
       "2       0  ...         0         0         0        30        43         0   \n",
       "3       0  ...         3         0         0         0         0         1   \n",
       "4       0  ...         0         0         0         0         0         0   \n",
       "\n",
       "   pixel781  pixel782  pixel783  pixel784  \n",
       "0         0         0         0         0  \n",
       "1         0         0         0         0  \n",
       "2         0         0         0         0  \n",
       "3         0         0         0         0  \n",
       "4         0         0         0         0  \n",
       "\n",
       "[5 rows x 785 columns]"
      ]
     },
     "execution_count": 4,
     "metadata": {},
     "output_type": "execute_result"
    }
   ],
   "source": [
    "data.head()"
   ]
  },
  {
   "cell_type": "code",
   "execution_count": 7,
   "metadata": {},
   "outputs": [],
   "source": [
    "X = data.iloc[:,1:].values"
   ]
  },
  {
   "cell_type": "code",
   "execution_count": 8,
   "metadata": {},
   "outputs": [
    {
     "data": {
      "text/plain": [
       "(60000, 784)"
      ]
     },
     "execution_count": 8,
     "metadata": {},
     "output_type": "execute_result"
    }
   ],
   "source": [
    "X.shape"
   ]
  },
  {
   "cell_type": "code",
   "execution_count": 9,
   "metadata": {},
   "outputs": [],
   "source": [
    "y = data[\"label\"].values"
   ]
  },
  {
   "cell_type": "code",
   "execution_count": 10,
   "metadata": {},
   "outputs": [
    {
     "data": {
      "text/plain": [
       "(60000,)"
      ]
     },
     "execution_count": 10,
     "metadata": {},
     "output_type": "execute_result"
    }
   ],
   "source": [
    "y.shape"
   ]
  },
  {
   "cell_type": "code",
   "execution_count": 17,
   "metadata": {},
   "outputs": [],
   "source": [
    "import matplotlib.pyplot as plt"
   ]
  },
  {
   "cell_type": "code",
   "execution_count": 19,
   "metadata": {},
   "outputs": [
    {
     "data": {
      "image/png": "[encoded data removed]",
      "text/plain": [
       "<Figure size 432x288 with 1 Axes>"
      ]
     },
     "metadata": {
      "needs_background": "light"
     },
     "output_type": "display_data"
    }
   ],
   "source": [
    "plt.imshow(X[0].reshape(28,28));"
   ]
  },
  {
   "cell_type": "code",
   "execution_count": 21,
   "metadata": {},
   "outputs": [
    {
     "data": {
      "text/plain": [
       "2"
      ]
     },
     "execution_count": 21,
     "metadata": {},
     "output_type": "execute_result"
    }
   ],
   "source": [
    "y[0]"
   ]
  },
  {
   "cell_type": "code",
   "execution_count": 22,
   "metadata": {},
   "outputs": [],
   "source": [
    "from sklearn.model_selection import train_test_split"
   ]
  },
  {
   "cell_type": "code",
   "execution_count": 23,
   "metadata": {},
   "outputs": [],
   "source": [
    "X_train,X_vt,y_train,y_vt = train_test_split(X,y,test_size = 0.2)"
   ]
  },
  {
   "cell_type": "code",
   "execution_count": 45,
   "metadata": {},
   "outputs": [
    {
     "data": {
      "text/plain": [
       "(48000, 784)"
      ]
     },
     "execution_count": 45,
     "metadata": {},
     "output_type": "execute_result"
    }
   ],
   "source": [
    "X_train.shape"
   ]
  },
  {
   "cell_type": "code",
   "execution_count": 24,
   "metadata": {},
   "outputs": [],
   "source": [
    "X_test,X_cv,y_test,y_cv = train_test_split(X_vt,y_vt,test_size = 0.5)"
   ]
  },
  {
   "cell_type": "code",
   "execution_count": 54,
   "metadata": {},
   "outputs": [],
   "source": [
    "from sklearn.neighbors import KNeighborsClassifier"
   ]
  },
  {
   "cell_type": "code",
   "execution_count": 27,
   "metadata": {},
   "outputs": [],
   "source": [
    "knn = KNeighborsClassifier(n_neighbors = 5)"
   ]
  },
  {
   "cell_type": "code",
   "execution_count": 28,
   "metadata": {},
   "outputs": [
    {
     "data": {
      "text/plain": [
       "KNeighborsClassifier(algorithm='auto', leaf_size=30, metric='minkowski',\n",
       "                     metric_params=None, n_jobs=None, n_neighbors=5, p=2,\n",
       "                     weights='uniform')"
      ]
     },
     "execution_count": 28,
     "metadata": {},
     "output_type": "execute_result"
    }
   ],
   "source": [
    "knn.fit(X_train,y_train)"
   ]
  },
  {
   "cell_type": "code",
   "execution_count": 29,
   "metadata": {},
   "outputs": [],
   "source": [
    "y_pred = knn.predict(X_test)"
   ]
  },
  {
   "cell_type": "code",
   "execution_count": 30,
   "metadata": {},
   "outputs": [],
   "source": [
    "from sklearn.metrics import accuracy_score"
   ]
  },
  {
   "cell_type": "code",
   "execution_count": 31,
   "metadata": {},
   "outputs": [
    {
     "data": {
      "text/plain": [
       "0.8506666666666667"
      ]
     },
     "execution_count": 31,
     "metadata": {},
     "output_type": "execute_result"
    }
   ],
   "source": [
    "accuracy_score(y_test,y_pred)"
   ]
  },
  {
   "cell_type": "code",
   "execution_count": 32,
   "metadata": {},
   "outputs": [],
   "source": [
    "#always do feature scaling before applying pca"
   ]
  },
  {
   "cell_type": "code",
   "execution_count": 33,
   "metadata": {},
   "outputs": [],
   "source": [
    "from sklearn.preprocessing import StandardScaler"
   ]
  },
  {
   "cell_type": "code",
   "execution_count": 34,
   "metadata": {},
   "outputs": [],
   "source": [
    "std = StandardScaler()"
   ]
  },
  {
   "cell_type": "code",
   "execution_count": 35,
   "metadata": {},
   "outputs": [],
   "source": [
    "X_train = std.fit_transform(X_train)"
   ]
  },
  {
   "cell_type": "code",
   "execution_count": 36,
   "metadata": {},
   "outputs": [],
   "source": [
    "X_test = std.fit_transform(X_test)"
   ]
  },
  {
   "cell_type": "markdown",
   "metadata": {},
   "source": [
    "***Applying PCA***"
   ]
  },
  {
   "cell_type": "code",
   "execution_count": 37,
   "metadata": {},
   "outputs": [],
   "source": [
    "from sklearn.decomposition import PCA"
   ]
  },
  {
   "cell_type": "code",
   "execution_count": 42,
   "metadata": {},
   "outputs": [],
   "source": [
    "pca = PCA(n_components = None)"
   ]
  },
  {
   "cell_type": "markdown",
   "metadata": {},
   "source": [
    "*none is added so that all 784 features can be converted into pca,less can also be taken*"
   ]
  },
  {
   "cell_type": "code",
   "execution_count": 43,
   "metadata": {},
   "outputs": [],
   "source": [
    "X_train_new = pca.fit_transform(X_train)\n",
    "X_test_new = pca.fit_transform(X_test)"
   ]
  },
  {
   "cell_type": "markdown",
   "metadata": {},
   "source": [
    "***instead of pca.fit_transform pca.transform can also be passed in only the test set case.it is  important to run ***"
   ]
  },
  {
   "cell_type": "code",
   "execution_count": 44,
   "metadata": {},
   "outputs": [
    {
     "data": {
      "text/plain": [
       "(48000, 784)"
      ]
     },
     "execution_count": 44,
     "metadata": {},
     "output_type": "execute_result"
    }
   ],
   "source": [
    "X_train_new.shape"
   ]
  },
  {
   "cell_type": "code",
   "execution_count": 46,
   "metadata": {},
   "outputs": [
    {
     "data": {
      "text/plain": [
       "array([2.16094013e-01, 1.46619908e-01, 5.49577095e-02, 5.12789181e-02,\n",
       "       4.09966963e-02, 3.11440605e-02, 2.77688836e-02, 2.38139977e-02,\n",
       "       1.75675491e-02, 1.31364140e-02, 1.20837659e-02, 9.84316507e-03,\n",
       "       9.33557052e-03, 8.70820988e-03, 7.59449129e-03, 6.91449402e-03,\n",
       "       6.91173010e-03, 6.49355307e-03, 6.26406331e-03, 5.86003886e-03,\n",
       "       5.64933150e-03, 5.16661880e-03, 4.78928501e-03, 4.48646449e-03,\n",
       "       4.47226277e-03, 4.36887376e-03, 4.19087530e-03, 4.01249889e-03,\n",
       "       3.95647838e-03, 3.78278383e-03, 3.65529015e-03, 3.53830508e-03,\n",
       "       3.46440326e-03, 3.29050431e-03, 3.19248765e-03, 3.14793498e-03,\n",
       "       3.06676667e-03, 2.97948298e-03, 2.85148037e-03, 2.78425444e-03,\n",
       "       2.74109062e-03, 2.65361049e-03, 2.56730143e-03, 2.52580698e-03,\n",
       "       2.46977301e-03, 2.41649573e-03, 2.36766556e-03, 2.31140910e-03,\n",
       "       2.28316342e-03, 2.21795601e-03, 2.14273819e-03, 2.11764533e-03,\n",
       "       2.07151254e-03, 2.01549700e-03, 1.96469303e-03, 1.94105245e-03,\n",
       "       1.91032200e-03, 1.88481917e-03, 1.87428361e-03, 1.86556293e-03,\n",
       "       1.83631033e-03, 1.81126819e-03, 1.74654379e-03, 1.69747382e-03,\n",
       "       1.66997396e-03, 1.62254450e-03, 1.59361479e-03, 1.56090090e-03,\n",
       "       1.54460064e-03, 1.50832582e-03, 1.49597088e-03, 1.45392000e-03,\n",
       "       1.44008110e-03, 1.40994367e-03, 1.39591228e-03, 1.35887823e-03,\n",
       "       1.35497253e-03, 1.34549277e-03, 1.32079516e-03, 1.28603742e-03,\n",
       "       1.26314155e-03, 1.23689977e-03, 1.22058728e-03, 1.22010273e-03,\n",
       "       1.20384366e-03, 1.17271173e-03, 1.16923480e-03, 1.15410554e-03,\n",
       "       1.13301227e-03, 1.11281397e-03, 1.10457854e-03, 1.08786230e-03,\n",
       "       1.06457236e-03, 1.05819073e-03, 1.05221678e-03, 1.01219400e-03,\n",
       "       1.00740432e-03, 1.00090823e-03, 9.91509812e-04, 9.72224028e-04,\n",
       "       9.71043427e-04, 9.55652188e-04, 9.45202272e-04, 9.41319954e-04,\n",
       "       9.23788438e-04, 9.16340453e-04, 9.12275788e-04, 9.03023208e-04,\n",
       "       8.86655474e-04, 8.80404308e-04, 8.74037021e-04, 8.66535434e-04,\n",
       "       8.42101128e-04, 8.34823994e-04, 8.21573725e-04, 8.12921692e-04,\n",
       "       8.08188356e-04, 7.99171113e-04, 7.92569084e-04, 7.82578264e-04,\n",
       "       7.66032490e-04, 7.55964358e-04, 7.45324170e-04, 7.42685964e-04,\n",
       "       7.31943329e-04, 7.25529183e-04, 7.17386247e-04, 7.09255034e-04,\n",
       "       7.03055794e-04, 7.01380906e-04, 6.96095910e-04, 6.81289639e-04,\n",
       "       6.69169723e-04, 6.65719435e-04, 6.53062971e-04, 6.47790232e-04,\n",
       "       6.44561160e-04, 6.34461005e-04, 6.27654087e-04, 6.24441420e-04,\n",
       "       6.19892030e-04, 6.09268700e-04, 6.05813601e-04, 6.00477134e-04,\n",
       "       5.96571605e-04, 5.92300876e-04, 5.88197706e-04, 5.77748352e-04,\n",
       "       5.74831466e-04, 5.72578499e-04, 5.68016811e-04, 5.61449028e-04,\n",
       "       5.58418669e-04, 5.55403659e-04, 5.46771667e-04, 5.41666198e-04,\n",
       "       5.38563820e-04, 5.35900102e-04, 5.32185042e-04, 5.24136960e-04,\n",
       "       5.18775122e-04, 5.13519620e-04, 5.11020405e-04, 5.05821305e-04,\n",
       "       5.03246876e-04, 5.00722899e-04, 4.95481794e-04, 4.92272207e-04,\n",
       "       4.86363894e-04, 4.79979069e-04, 4.78179462e-04, 4.74818870e-04,\n",
       "       4.71272150e-04, 4.65445756e-04, 4.63683793e-04, 4.62718424e-04,\n",
       "       4.56854981e-04, 4.55689727e-04, 4.50510849e-04, 4.46988692e-04,\n",
       "       4.43334291e-04, 4.41971912e-04, 4.36118488e-04, 4.30032898e-04,\n",
       "       4.25284283e-04, 4.24801029e-04, 4.20824206e-04, 4.18477096e-04,\n",
       "       4.11248337e-04, 4.09270119e-04, 4.05197997e-04, 4.04178855e-04,\n",
       "       3.98469533e-04, 3.95233590e-04, 3.92422422e-04, 3.91321025e-04,\n",
       "       3.89849564e-04, 3.85839318e-04, 3.83952133e-04, 3.80555501e-04,\n",
       "       3.75544104e-04, 3.73366793e-04, 3.69280084e-04, 3.67428430e-04,\n",
       "       3.65468135e-04, 3.64064175e-04, 3.61687136e-04, 3.58425925e-04,\n",
       "       3.54615633e-04, 3.52975028e-04, 3.51235873e-04, 3.48509929e-04,\n",
       "       3.46181524e-04, 3.41813120e-04, 3.40061485e-04, 3.37279393e-04,\n",
       "       3.36671595e-04, 3.33381529e-04, 3.32772162e-04, 3.30786891e-04,\n",
       "       3.26447033e-04, 3.24912575e-04, 3.23995785e-04, 3.20986879e-04,\n",
       "       3.19539690e-04, 3.18435445e-04, 3.16718389e-04, 3.15192587e-04,\n",
       "       3.11729460e-04, 3.10895305e-04, 3.07290602e-04, 3.04672206e-04,\n",
       "       3.04131397e-04, 3.02852021e-04, 3.00329226e-04, 2.97752471e-04,\n",
       "       2.97113173e-04, 2.96182448e-04, 2.92696912e-04, 2.88718449e-04,\n",
       "       2.85677720e-04, 2.83823823e-04, 2.82555086e-04, 2.80464669e-04,\n",
       "       2.79963492e-04, 2.78359181e-04, 2.76312097e-04, 2.75393232e-04,\n",
       "       2.74785940e-04, 2.72917045e-04, 2.69915479e-04, 2.69647147e-04,\n",
       "       2.68579177e-04, 2.64416711e-04, 2.64105536e-04, 2.63516418e-04,\n",
       "       2.61014933e-04, 2.60214870e-04, 2.59068972e-04, 2.55340287e-04,\n",
       "       2.54076204e-04, 2.53063814e-04, 2.50823112e-04, 2.49408624e-04,\n",
       "       2.48781789e-04, 2.46786295e-04, 2.43468550e-04, 2.42779474e-04,\n",
       "       2.42494888e-04, 2.41247043e-04, 2.38697196e-04, 2.37228812e-04,\n",
       "       2.34894173e-04, 2.33682120e-04, 2.33538408e-04, 2.31677411e-04,\n",
       "       2.30564560e-04, 2.29680920e-04, 2.27749064e-04, 2.25847901e-04,\n",
       "       2.23818500e-04, 2.22150827e-04, 2.20361901e-04, 2.19666099e-04,\n",
       "       2.18500104e-04, 2.17525280e-04, 2.16807174e-04, 2.15243332e-04,\n",
       "       2.13825635e-04, 2.12072560e-04, 2.11240083e-04, 2.10541361e-04,\n",
       "       2.08764605e-04, 2.07541069e-04, 2.06956589e-04, 2.06379296e-04,\n",
       "       2.04905389e-04, 2.04003674e-04, 2.02584495e-04, 2.01972192e-04,\n",
       "       2.01437608e-04, 2.00194216e-04, 1.98607230e-04, 1.96872248e-04,\n",
       "       1.95440492e-04, 1.94690248e-04, 1.93713483e-04, 1.93246074e-04,\n",
       "       1.91398842e-04, 1.90305742e-04, 1.89406816e-04, 1.88972759e-04,\n",
       "       1.88019988e-04, 1.87085157e-04, 1.85458605e-04, 1.83791304e-04,\n",
       "       1.82652748e-04, 1.80857420e-04, 1.80406813e-04, 1.79881148e-04,\n",
       "       1.79008653e-04, 1.77756793e-04, 1.77257033e-04, 1.76848975e-04,\n",
       "       1.75660134e-04, 1.74700724e-04, 1.74024410e-04, 1.72871036e-04,\n",
       "       1.72282135e-04, 1.71892277e-04, 1.70399357e-04, 1.69136817e-04,\n",
       "       1.68386078e-04, 1.66871977e-04, 1.66228181e-04, 1.65379612e-04,\n",
       "       1.64900926e-04, 1.64488620e-04, 1.63174793e-04, 1.61718599e-04,\n",
       "       1.61052394e-04, 1.60282430e-04, 1.59132172e-04, 1.58133497e-04,\n",
       "       1.56501777e-04, 1.56343540e-04, 1.55695747e-04, 1.54629216e-04,\n",
       "       1.53393683e-04, 1.52715895e-04, 1.52602761e-04, 1.50724103e-04,\n",
       "       1.50298051e-04, 1.49749103e-04, 1.49068272e-04, 1.47927224e-04,\n",
       "       1.47651557e-04, 1.46461099e-04, 1.45536252e-04, 1.44811152e-04,\n",
       "       1.44110677e-04, 1.43353482e-04, 1.42738167e-04, 1.42564671e-04,\n",
       "       1.41444832e-04, 1.40932356e-04, 1.40441807e-04, 1.39381392e-04,\n",
       "       1.38698539e-04, 1.38086951e-04, 1.37726244e-04, 1.35853973e-04,\n",
       "       1.35511873e-04, 1.35052218e-04, 1.34504852e-04, 1.33781996e-04,\n",
       "       1.32966838e-04, 1.32048466e-04, 1.31607479e-04, 1.31088983e-04,\n",
       "       1.30182691e-04, 1.28867573e-04, 1.28104369e-04, 1.27721571e-04,\n",
       "       1.27336163e-04, 1.26724902e-04, 1.26105746e-04, 1.25566178e-04,\n",
       "       1.25202660e-04, 1.23640919e-04, 1.23198431e-04, 1.22696967e-04,\n",
       "       1.22539692e-04, 1.22075706e-04, 1.21376593e-04, 1.20614009e-04,\n",
       "       1.19733429e-04, 1.19253886e-04, 1.18946177e-04, 1.18453755e-04,\n",
       "       1.17643168e-04, 1.17168151e-04, 1.16784941e-04, 1.16658466e-04,\n",
       "       1.16239367e-04, 1.15484201e-04, 1.14759533e-04, 1.13975386e-04,\n",
       "       1.13462526e-04, 1.12826243e-04, 1.11674830e-04, 1.11470301e-04,\n",
       "       1.10931142e-04, 1.10447187e-04, 1.10206209e-04, 1.09618283e-04,\n",
       "       1.08760182e-04, 1.08370037e-04, 1.07596219e-04, 1.07148100e-04,\n",
       "       1.06630087e-04, 1.06141676e-04, 1.05695270e-04, 1.05068766e-04,\n",
       "       1.04087291e-04, 1.03382970e-04, 1.02762285e-04, 1.02225492e-04,\n",
       "       1.01881820e-04, 1.01323223e-04, 1.00783694e-04, 1.00581544e-04,\n",
       "       1.00175944e-04, 9.99072602e-05, 9.92853852e-05, 9.84548918e-05,\n",
       "       9.77767704e-05, 9.75414267e-05, 9.67618329e-05, 9.61556765e-05,\n",
       "       9.56126883e-05, 9.54829186e-05, 9.49934625e-05, 9.47002405e-05,\n",
       "       9.41906481e-05, 9.34549380e-05, 9.30158501e-05, 9.26570603e-05,\n",
       "       9.21731995e-05, 9.17291649e-05, 9.13320872e-05, 9.08337168e-05,\n",
       "       9.05423922e-05, 9.02694877e-05, 8.94251098e-05, 8.88853088e-05,\n",
       "       8.87560889e-05, 8.80865452e-05, 8.75421553e-05, 8.75084588e-05,\n",
       "       8.71535159e-05, 8.66179877e-05, 8.62285179e-05, 8.58792165e-05,\n",
       "       8.51806828e-05, 8.48594446e-05, 8.47162360e-05, 8.44926721e-05,\n",
       "       8.34297723e-05, 8.27968544e-05, 8.24926717e-05, 8.24314804e-05,\n",
       "       8.16810141e-05, 8.14470080e-05, 8.08588013e-05, 8.05586201e-05,\n",
       "       8.04022955e-05, 7.94990356e-05, 7.92925590e-05, 7.89793572e-05,\n",
       "       7.86089010e-05, 7.84248537e-05, 7.78881252e-05, 7.73499795e-05,\n",
       "       7.69742981e-05, 7.63860825e-05, 7.61681487e-05, 7.57657982e-05,\n",
       "       7.52297881e-05, 7.46611311e-05, 7.43309253e-05, 7.39815314e-05,\n",
       "       7.36559903e-05, 7.31685427e-05, 7.25764998e-05, 7.21274841e-05,\n",
       "       7.18898577e-05, 7.16497919e-05, 7.11907659e-05, 7.09051839e-05,\n",
       "       7.06028157e-05, 7.05270005e-05, 7.03211598e-05, 7.00253797e-05,\n",
       "       6.95260052e-05, 6.88553107e-05, 6.87674080e-05, 6.84998840e-05,\n",
       "       6.80435438e-05, 6.77049551e-05, 6.72936652e-05, 6.69672939e-05,\n",
       "       6.66968360e-05, 6.65297475e-05, 6.59155875e-05, 6.58436218e-05,\n",
       "       6.53150528e-05, 6.49347651e-05, 6.43282671e-05, 6.43081458e-05,\n",
       "       6.40102236e-05, 6.37247343e-05, 6.34759139e-05, 6.32465691e-05,\n",
       "       6.25731577e-05, 6.22489862e-05, 6.18125199e-05, 6.16463772e-05,\n",
       "       6.15223463e-05, 6.12366070e-05, 6.09820720e-05, 6.07563224e-05,\n",
       "       6.01863881e-05, 5.99074927e-05, 5.93568814e-05, 5.92308993e-05,\n",
       "       5.85589514e-05, 5.82649242e-05, 5.78066990e-05, 5.74041454e-05,\n",
       "       5.72086941e-05, 5.70698157e-05, 5.67554208e-05, 5.64130203e-05,\n",
       "       5.63916805e-05, 5.62878192e-05, 5.58280306e-05, 5.54559697e-05,\n",
       "       5.53217095e-05, 5.49403369e-05, 5.46544387e-05, 5.43675683e-05,\n",
       "       5.41433288e-05, 5.39751628e-05, 5.36417569e-05, 5.35097516e-05,\n",
       "       5.30792642e-05, 5.26861721e-05, 5.25283134e-05, 5.23067150e-05,\n",
       "       5.19213854e-05, 5.17770638e-05, 5.15012045e-05, 5.09434295e-05,\n",
       "       5.07457077e-05, 5.04424332e-05, 5.01557445e-05, 4.99827005e-05,\n",
       "       4.97326345e-05, 4.94048969e-05, 4.92030171e-05, 4.88961211e-05,\n",
       "       4.87964598e-05, 4.82479527e-05, 4.79670461e-05, 4.79012097e-05,\n",
       "       4.78023182e-05, 4.75102912e-05, 4.72345291e-05, 4.66099870e-05,\n",
       "       4.63334997e-05, 4.62101039e-05, 4.56277351e-05, 4.55974361e-05,\n",
       "       4.54077937e-05, 4.49857175e-05, 4.48203341e-05, 4.48031818e-05,\n",
       "       4.46103357e-05, 4.41719779e-05, 4.40710545e-05, 4.37420886e-05,\n",
       "       4.34332314e-05, 4.32109724e-05, 4.31007216e-05, 4.28558321e-05,\n",
       "       4.22661971e-05, 4.19571441e-05, 4.18467761e-05, 4.16555108e-05,\n",
       "       4.14142845e-05, 4.12460831e-05, 4.11893382e-05, 4.08794856e-05,\n",
       "       4.05924067e-05, 4.03761839e-05, 4.02311128e-05, 3.97977781e-05,\n",
       "       3.95731377e-05, 3.93119952e-05, 3.91793574e-05, 3.90336077e-05,\n",
       "       3.87891634e-05, 3.83629551e-05, 3.81503637e-05, 3.80090486e-05,\n",
       "       3.76361024e-05, 3.73528544e-05, 3.69371283e-05, 3.68858787e-05,\n",
       "       3.67971791e-05, 3.64938930e-05, 3.61999670e-05, 3.59936056e-05,\n",
       "       3.56799067e-05, 3.53098190e-05, 3.51434509e-05, 3.50595278e-05,\n",
       "       3.49914385e-05, 3.48439062e-05, 3.48094391e-05, 3.46208063e-05,\n",
       "       3.41562066e-05, 3.39632905e-05, 3.38304157e-05, 3.36973358e-05,\n",
       "       3.31180136e-05, 3.29826874e-05, 3.28847078e-05, 3.26681234e-05,\n",
       "       3.22870094e-05, 3.19799654e-05, 3.18811972e-05, 3.18168027e-05,\n",
       "       3.15271253e-05, 3.12789205e-05, 3.11084603e-05, 3.09519375e-05,\n",
       "       3.07775569e-05, 3.06279728e-05, 3.03825089e-05, 2.99284324e-05,\n",
       "       2.98007276e-05, 2.95903371e-05, 2.95006678e-05, 2.92386473e-05,\n",
       "       2.89453817e-05, 2.88868018e-05, 2.86815558e-05, 2.85184502e-05,\n",
       "       2.83468097e-05, 2.81700850e-05, 2.81515784e-05, 2.78140081e-05,\n",
       "       2.77198833e-05, 2.74336467e-05, 2.72887146e-05, 2.70527942e-05,\n",
       "       2.67325267e-05, 2.64356213e-05, 2.61450469e-05, 2.60703718e-05,\n",
       "       2.59717130e-05, 2.57796687e-05, 2.56370397e-05, 2.55519374e-05,\n",
       "       2.51897286e-05, 2.51206972e-05, 2.48407095e-05, 2.47083568e-05,\n",
       "       2.46420651e-05, 2.44277382e-05, 2.43286869e-05, 2.42331889e-05,\n",
       "       2.39255369e-05, 2.37997413e-05, 2.36149209e-05, 2.35249099e-05,\n",
       "       2.32364962e-05, 2.31236094e-05, 2.26122947e-05, 2.25372944e-05,\n",
       "       2.23803741e-05, 2.22424250e-05, 2.21373030e-05, 2.19861969e-05,\n",
       "       2.16992393e-05, 2.15135815e-05, 2.14159258e-05, 2.12044951e-05,\n",
       "       2.08450164e-05, 2.07924251e-05, 2.06004218e-05, 2.03129031e-05,\n",
       "       2.03040076e-05, 2.01632092e-05, 1.99619932e-05, 1.96093936e-05,\n",
       "       1.94996321e-05, 1.92296314e-05, 1.91788957e-05, 1.88845748e-05,\n",
       "       1.87690959e-05, 1.87199906e-05, 1.86544265e-05, 1.84787671e-05,\n",
       "       1.83523161e-05, 1.82243784e-05, 1.79848899e-05, 1.79389537e-05,\n",
       "       1.76836932e-05, 1.74598882e-05, 1.72627144e-05, 1.71128158e-05,\n",
       "       1.69836865e-05, 1.68134960e-05, 1.66371013e-05, 1.66086228e-05,\n",
       "       1.62768777e-05, 1.61219572e-05, 1.57498912e-05, 1.56246525e-05,\n",
       "       1.55010011e-05, 1.52479261e-05, 1.51757993e-05, 1.50308123e-05,\n",
       "       1.47506803e-05, 1.46736078e-05, 1.44768446e-05, 1.41736463e-05,\n",
       "       1.38966666e-05, 1.38297192e-05, 1.37041070e-05, 1.36492356e-05,\n",
       "       1.35349819e-05, 1.34426187e-05, 1.32253503e-05, 1.30352247e-05,\n",
       "       1.28788734e-05, 1.27556608e-05, 1.25464593e-05, 1.23127885e-05,\n",
       "       1.21380751e-05, 1.20725403e-05, 1.16832850e-05, 1.14098985e-05,\n",
       "       1.12966162e-05, 1.11879561e-05, 1.08383499e-05, 1.07480813e-05,\n",
       "       1.04993836e-05, 1.03369494e-05, 1.01001139e-05, 9.99555160e-06,\n",
       "       9.65275598e-06, 9.44495960e-06, 9.36909611e-06, 9.13401626e-06,\n",
       "       8.95876067e-06, 8.88502822e-06, 8.71568519e-06, 8.24354407e-06,\n",
       "       7.94406438e-06, 7.65851809e-06, 7.52054298e-06, 7.25170423e-06,\n",
       "       6.93166823e-06, 6.58614926e-06, 6.19695199e-06, 6.10473467e-06,\n",
       "       5.79723656e-06, 5.18827936e-06, 4.22598599e-06, 4.90949507e-34])"
      ]
     },
     "execution_count": 46,
     "metadata": {},
     "output_type": "execute_result"
    }
   ],
   "source": [
    "pca.explained_variance_ratio_"
   ]
  },
  {
   "cell_type": "markdown",
   "metadata": {},
   "source": [
    "*this return the variance each columns can generate.the columns which give the highest variance are selected*"
   ]
  },
  {
   "cell_type": "code",
   "execution_count": 47,
   "metadata": {},
   "outputs": [],
   "source": [
    "pca1 = PCA(n_components = 50)"
   ]
  },
  {
   "cell_type": "markdown",
   "metadata": {},
   "source": [
    "**n_components automatically select best features**"
   ]
  },
  {
   "cell_type": "code",
   "execution_count": 49,
   "metadata": {},
   "outputs": [],
   "source": [
    "X_train_new1 = pca1.fit_transform(X_train)"
   ]
  },
  {
   "cell_type": "code",
   "execution_count": 50,
   "metadata": {},
   "outputs": [],
   "source": [
    "X_test_new1 = pca1.fit_transform(X_test)"
   ]
  },
  {
   "cell_type": "code",
   "execution_count": 51,
   "metadata": {},
   "outputs": [
    {
     "data": {
      "text/plain": [
       "(48000, 50)"
      ]
     },
     "execution_count": 51,
     "metadata": {},
     "output_type": "execute_result"
    }
   ],
   "source": [
    "X_train_new1.shape"
   ]
  },
  {
   "cell_type": "code",
   "execution_count": 56,
   "metadata": {},
   "outputs": [],
   "source": [
    "knn1 = KNeighborsClassifier(n_neighbors = 5)"
   ]
  },
  {
   "cell_type": "code",
   "execution_count": 57,
   "metadata": {},
   "outputs": [
    {
     "data": {
      "text/plain": [
       "KNeighborsClassifier(algorithm='auto', leaf_size=30, metric='minkowski',\n",
       "                     metric_params=None, n_jobs=None, n_neighbors=5, p=2,\n",
       "                     weights='uniform')"
      ]
     },
     "execution_count": 57,
     "metadata": {},
     "output_type": "execute_result"
    }
   ],
   "source": [
    "knn.fit(X_train_new1,y_train)"
   ]
  },
  {
   "cell_type": "code",
   "execution_count": 61,
   "metadata": {},
   "outputs": [],
   "source": [
    "y_pred1 = knn.predict(X_test_new1)"
   ]
  },
  {
   "cell_type": "code",
   "execution_count": 62,
   "metadata": {},
   "outputs": [
    {
     "data": {
      "text/plain": [
       "0.47783333333333333"
      ]
     },
     "execution_count": 62,
     "metadata": {},
     "output_type": "execute_result"
    }
   ],
   "source": [
    "accuracy_score(y_test,y_pred1)"
   ]
  },
  {
   "cell_type": "markdown",
   "metadata": {},
   "source": [
    "####for getting optimal value of n_components run loop as"
   ]
  },
  {
   "cell_type": "code",
   "execution_count": 65,
   "metadata": {},
   "outputs": [
    {
     "ename": "AttributeError",
     "evalue": "'KNeighborsClassifier' object has no attribute 'train'",
     "output_type": "error",
     "traceback": [
      "\u001b[0;31m---------------------------------------------------------------------------\u001b[0m",
      "\u001b[0;31mAttributeError\u001b[0m                            Traceback (most recent call last)",
      "\u001b[0;32m<ipython-input-65-d060846e691b>\u001b[0m in \u001b[0;36m<module>\u001b[0;34m\u001b[0m\n\u001b[1;32m      5\u001b[0m     \u001b[0mX_te\u001b[0m \u001b[0;34m=\u001b[0m \u001b[0mpca2\u001b[0m\u001b[0;34m.\u001b[0m\u001b[0mfit_transform\u001b[0m\u001b[0;34m(\u001b[0m\u001b[0mX_test\u001b[0m\u001b[0;34m)\u001b[0m\u001b[0;34m\u001b[0m\u001b[0;34m\u001b[0m\u001b[0m\n\u001b[1;32m      6\u001b[0m     \u001b[0mclf2\u001b[0m \u001b[0;34m=\u001b[0m \u001b[0mKNeighborsClassifier\u001b[0m\u001b[0;34m(\u001b[0m\u001b[0;34m)\u001b[0m\u001b[0;34m\u001b[0m\u001b[0;34m\u001b[0m\u001b[0m\n\u001b[0;32m----> 7\u001b[0;31m     \u001b[0mclf2\u001b[0m\u001b[0;34m.\u001b[0m\u001b[0mtrain\u001b[0m\u001b[0;34m(\u001b[0m\u001b[0mX_tr\u001b[0m\u001b[0;34m,\u001b[0m\u001b[0my_train\u001b[0m\u001b[0;34m)\u001b[0m\u001b[0;34m\u001b[0m\u001b[0;34m\u001b[0m\u001b[0m\n\u001b[0m\u001b[1;32m      8\u001b[0m     \u001b[0my_pred2\u001b[0m \u001b[0;34m=\u001b[0m \u001b[0mclf2\u001b[0m\u001b[0;34m.\u001b[0m\u001b[0mpredict\u001b[0m\u001b[0;34m(\u001b[0m\u001b[0mX_te\u001b[0m\u001b[0;34m)\u001b[0m\u001b[0;34m\u001b[0m\u001b[0;34m\u001b[0m\u001b[0m\n\u001b[1;32m      9\u001b[0m     \u001b[0mprint\u001b[0m\u001b[0;34m(\u001b[0m\u001b[0maccuracy_score\u001b[0m\u001b[0;34m(\u001b[0m\u001b[0my_test\u001b[0m\u001b[0;34m,\u001b[0m\u001b[0my_pred2\u001b[0m\u001b[0;34m)\u001b[0m\u001b[0;34m)\u001b[0m\u001b[0;34m\u001b[0m\u001b[0;34m\u001b[0m\u001b[0m\n",
      "\u001b[0;31mAttributeError\u001b[0m: 'KNeighborsClassifier' object has no attribute 'train'"
     ]
    }
   ],
   "source": [
    "accuracy = []\n",
    "for i in range(1,785):\n",
    "    pca2 = PCA(n_components = i)\n",
    "    X_tr = pca2.fit_transform(X_train)\n",
    "    X_te = pca2.fit_transform(X_test)\n",
    "    clf2 = KNeighborsClassifier()\n",
    "    clf2.fit(X_tr,y_train)\n",
    "    y_pred2 = clf2.predict(X_te)\n",
    "    print(accuracy_score(y_test,y_pred2))\n",
    "    accuracy.append(accuracy_score(y_test,y_pred2))"
   ]
  },
  {
   "cell_type": "code",
   "execution_count": null,
   "metadata": {},
   "outputs": [],
   "source": []
  }
 ],
 "metadata": {
  "kernelspec": {
   "display_name": "Python 3",
   "language": "python",
   "name": "python3"
  },
  "language_info": {
   "codemirror_mode": {
    "name": "ipython",
    "version": 3
   },
   "file_extension": ".py",
   "mimetype": "text/x-python",
   "name": "python",
   "nbconvert_exporter": "python",
   "pygments_lexer": "ipython3",
   "version": "3.7.0"
  }
 },
 "nbformat": 4,
 "nbformat_minor": 4
}
